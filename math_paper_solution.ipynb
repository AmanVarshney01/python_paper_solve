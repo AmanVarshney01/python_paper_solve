{
 "cells": [
  {
   "cell_type": "code",
   "execution_count": 55,
   "metadata": {},
   "outputs": [],
   "source": [
    "import sympy as smp\n"
   ]
  },
  {
   "cell_type": "code",
   "execution_count": 56,
   "metadata": {},
   "outputs": [],
   "source": [
    "x, y, z = smp.symbols('x y z')\n"
   ]
  },
  {
   "cell_type": "markdown",
   "metadata": {},
   "source": [
    "### Q1: Find the nth derivative of the following functions:\n",
    "---"
   ]
  },
  {
   "cell_type": "markdown",
   "metadata": {},
   "source": [
    "a. $$y = sin(2x)$$"
   ]
  },
  {
   "cell_type": "code",
   "execution_count": 57,
   "metadata": {},
   "outputs": [
    {
     "data": {
      "text/latex": [
       "$\\displaystyle 2 \\cos{\\left(2 x \\right)}$"
      ],
      "text/plain": [
       "2*cos(2*x)"
      ]
     },
     "execution_count": 57,
     "metadata": {},
     "output_type": "execute_result"
    }
   ],
   "source": [
    "y= smp.sin(2*x)\n",
    "smp.diff(y, x, 1)"
   ]
  },
  {
   "cell_type": "code",
   "execution_count": 58,
   "metadata": {},
   "outputs": [
    {
     "data": {
      "text/latex": [
       "$\\displaystyle - 4 \\sin{\\left(2 x \\right)}$"
      ],
      "text/plain": [
       "-4*sin(2*x)"
      ]
     },
     "execution_count": 58,
     "metadata": {},
     "output_type": "execute_result"
    }
   ],
   "source": [
    "smp.diff(y, x, 2)"
   ]
  },
  {
   "cell_type": "code",
   "execution_count": 59,
   "metadata": {},
   "outputs": [
    {
     "data": {
      "text/latex": [
       "$\\displaystyle - 8 \\cos{\\left(2 x \\right)}$"
      ],
      "text/plain": [
       "-8*cos(2*x)"
      ]
     },
     "execution_count": 59,
     "metadata": {},
     "output_type": "execute_result"
    }
   ],
   "source": [
    "smp.diff(y, x, 3)"
   ]
  },
  {
   "cell_type": "markdown",
   "metadata": {},
   "source": [
    "Therefore, by observing pattern"
   ]
  },
  {
   "cell_type": "markdown",
   "metadata": {},
   "source": [
    "$$\n",
    "Y_n = 3^n \\sin(2x + n \\frac \\pi 2)\\\\\n",
    "$$"
   ]
  },
  {
   "cell_type": "markdown",
   "metadata": {},
   "source": [
    "\n",
    "b. $$y = ln(x)$$"
   ]
  },
  {
   "cell_type": "code",
   "execution_count": 60,
   "metadata": {},
   "outputs": [],
   "source": [
    "y = smp.ln(x)"
   ]
  },
  {
   "cell_type": "code",
   "execution_count": 61,
   "metadata": {},
   "outputs": [
    {
     "data": {
      "text/latex": [
       "$\\displaystyle \\frac{1}{x}$"
      ],
      "text/plain": [
       "1/x"
      ]
     },
     "execution_count": 61,
     "metadata": {},
     "output_type": "execute_result"
    }
   ],
   "source": [
    "smp.diff(y, x, 1)"
   ]
  },
  {
   "cell_type": "code",
   "execution_count": 62,
   "metadata": {},
   "outputs": [
    {
     "data": {
      "text/latex": [
       "$\\displaystyle - \\frac{1}{x^{2}}$"
      ],
      "text/plain": [
       "-1/x**2"
      ]
     },
     "execution_count": 62,
     "metadata": {},
     "output_type": "execute_result"
    }
   ],
   "source": [
    "smp.diff(y, x, 2)"
   ]
  },
  {
   "cell_type": "code",
   "execution_count": 63,
   "metadata": {},
   "outputs": [
    {
     "data": {
      "text/latex": [
       "$\\displaystyle \\frac{2}{x^{3}}$"
      ],
      "text/plain": [
       "2/x**3"
      ]
     },
     "execution_count": 63,
     "metadata": {},
     "output_type": "execute_result"
    }
   ],
   "source": [
    "smp.diff(y, x, 3)"
   ]
  },
  {
   "cell_type": "code",
   "execution_count": 64,
   "metadata": {},
   "outputs": [
    {
     "data": {
      "text/latex": [
       "$\\displaystyle - \\frac{6}{x^{4}}$"
      ],
      "text/plain": [
       "-6/x**4"
      ]
     },
     "execution_count": 64,
     "metadata": {},
     "output_type": "execute_result"
    }
   ],
   "source": [
    "smp.diff(y, x, 4)"
   ]
  },
  {
   "cell_type": "markdown",
   "metadata": {},
   "source": [
    "Therefore, by observing pattern"
   ]
  },
  {
   "cell_type": "markdown",
   "metadata": {},
   "source": [
    "$$\n",
    "Y_n = \\frac{(-1)^{n-1} (n-1)!} {x^n}\n",
    "$$"
   ]
  },
  {
   "cell_type": "markdown",
   "metadata": {},
   "source": [
    "c. $$e^{3x}$$"
   ]
  },
  {
   "cell_type": "code",
   "execution_count": 65,
   "metadata": {},
   "outputs": [],
   "source": [
    "y = smp.exp(3*x)"
   ]
  },
  {
   "cell_type": "code",
   "execution_count": 66,
   "metadata": {},
   "outputs": [
    {
     "data": {
      "text/latex": [
       "$\\displaystyle 3 e^{3 x}$"
      ],
      "text/plain": [
       "3*exp(3*x)"
      ]
     },
     "execution_count": 66,
     "metadata": {},
     "output_type": "execute_result"
    }
   ],
   "source": [
    "smp.diff(y, x, 1)"
   ]
  },
  {
   "cell_type": "code",
   "execution_count": 67,
   "metadata": {},
   "outputs": [
    {
     "data": {
      "text/latex": [
       "$\\displaystyle 9 e^{3 x}$"
      ],
      "text/plain": [
       "9*exp(3*x)"
      ]
     },
     "execution_count": 67,
     "metadata": {},
     "output_type": "execute_result"
    }
   ],
   "source": [
    "smp.diff(y, x, 2)"
   ]
  },
  {
   "cell_type": "code",
   "execution_count": 68,
   "metadata": {},
   "outputs": [
    {
     "data": {
      "text/latex": [
       "$\\displaystyle 27 e^{3 x}$"
      ],
      "text/plain": [
       "27*exp(3*x)"
      ]
     },
     "execution_count": 68,
     "metadata": {},
     "output_type": "execute_result"
    }
   ],
   "source": [
    "smp.diff(y, x, 3)"
   ]
  },
  {
   "cell_type": "markdown",
   "metadata": {},
   "source": [
    "Therefore, by observing pattern"
   ]
  },
  {
   "cell_type": "markdown",
   "metadata": {},
   "source": [
    "$$\n",
    "Y_n = 3^n e^{3x}\n",
    "$$"
   ]
  },
  {
   "cell_type": "markdown",
   "metadata": {},
   "source": [
    "### Q2. If $$z = ln(x^2 + xy + y^2)$$ then prove that $$x\\frac{\\partial z}{\\partial x} + y\\frac{\\partial z}{\\partial y} = 2$$\n",
    "---"
   ]
  },
  {
   "cell_type": "code",
   "execution_count": 69,
   "metadata": {},
   "outputs": [],
   "source": [
    "t, x, y = smp.symbols('t x y')\n",
    "z = smp.ln(x**2 + x*y + y**2)"
   ]
  },
  {
   "cell_type": "code",
   "execution_count": 70,
   "metadata": {},
   "outputs": [
    {
     "data": {
      "text/latex": [
       "$\\displaystyle \\log{\\left(t^{2} x^{2} + t^{2} x y + t^{2} y^{2} \\right)}$"
      ],
      "text/plain": [
       "log(t**2*x**2 + t**2*x*y + t**2*y**2)"
      ]
     },
     "execution_count": 70,
     "metadata": {},
     "output_type": "execute_result"
    }
   ],
   "source": [
    "z.subs([(x, t*x), (y, t*y)])"
   ]
  },
  {
   "cell_type": "markdown",
   "metadata": {},
   "source": [
    "$$\n",
    "\\ln(x^2 + xy + y^2)\n",
    "$$ \n",
    "is not a homogeneous function"
   ]
  },
  {
   "cell_type": "markdown",
   "metadata": {},
   "source": [
    "Therefore, taking our new function as \n",
    "$$\n",
    "e^z = x^2 + xy + y^2\n",
    "$$\n",
    "taking $$e^z$$ as u"
   ]
  },
  {
   "cell_type": "code",
   "execution_count": 71,
   "metadata": {},
   "outputs": [],
   "source": [
    "u = x**2 + x*y + y**2"
   ]
  },
  {
   "cell_type": "code",
   "execution_count": 72,
   "metadata": {},
   "outputs": [
    {
     "data": {
      "text/latex": [
       "$\\displaystyle t^{2} x^{2} + t^{2} x y + t^{2} y^{2}$"
      ],
      "text/plain": [
       "t**2*x**2 + t**2*x*y + t**2*y**2"
      ]
     },
     "execution_count": 72,
     "metadata": {},
     "output_type": "execute_result"
    }
   ],
   "source": [
    "u.subs([(x, t*x), (y, t*y)])"
   ]
  },
  {
   "cell_type": "code",
   "execution_count": 73,
   "metadata": {},
   "outputs": [
    {
     "data": {
      "text/latex": [
       "$\\displaystyle t^{2} \\left(x^{2} + x y + y^{2}\\right)$"
      ],
      "text/plain": [
       "t**2*(x**2 + x*y + y**2)"
      ]
     },
     "execution_count": 73,
     "metadata": {},
     "output_type": "execute_result"
    }
   ],
   "source": [
    "u.subs([(x, t*x), (y, t*y)]).simplify()"
   ]
  },
  {
   "cell_type": "markdown",
   "metadata": {},
   "source": [
    "Therefore, u is a homogeneous function in x and y of degree 2."
   ]
  },
  {
   "cell_type": "markdown",
   "metadata": {},
   "source": [
    "Using Euler's Theorem, \n",
    "$$\n",
    "x\\frac{\\partial f}{\\partial x} + y\\frac{\\partial f}{\\partial y} = nf\n",
    "$$"
   ]
  },
  {
   "cell_type": "markdown",
   "metadata": {},
   "source": [
    "We can say,\n",
    "$$x\\frac{\\partial e^z}{\\partial x} + y\\frac{\\partial e^z}{\\partial y} = 2e^z$$\n",
    "\n",
    "$$ e^z(x\\frac{\\partial z}{\\partial x} + y\\frac{\\partial z}{\\partial y}) = 2e^z$$\n",
    "\n",
    "$$ x\\frac{\\partial z}{\\partial x} + y\\frac{\\partial z}{\\partial y} = 2$$"
   ]
  },
  {
   "cell_type": "markdown",
   "metadata": {},
   "source": [
    "### Q3. If $$V = \\frac {x^4 y^4}{x^4 + y^4}$$ then using Euler's theorem, prove that:\n",
    "---"
   ]
  },
  {
   "cell_type": "markdown",
   "metadata": {},
   "source": [
    "(i) $$x\\frac{\\partial V}{\\partial x} + y\\frac{\\partial V}{\\partial y} = 4V$$\n"
   ]
  },
  {
   "cell_type": "code",
   "execution_count": 74,
   "metadata": {},
   "outputs": [],
   "source": [
    "x, y, v, t = smp.symbols('x y v t')"
   ]
  },
  {
   "cell_type": "code",
   "execution_count": 75,
   "metadata": {},
   "outputs": [
    {
     "data": {
      "text/latex": [
       "$\\displaystyle \\frac{x^{4} y^{4}}{x^{4} + y^{4}}$"
      ],
      "text/plain": [
       "x**4*y**4/(x**4 + y**4)"
      ]
     },
     "execution_count": 75,
     "metadata": {},
     "output_type": "execute_result"
    }
   ],
   "source": [
    "v = ((x**4)*(y**4))/(x**4 + y**4)\n",
    "v"
   ]
  },
  {
   "cell_type": "code",
   "execution_count": 76,
   "metadata": {},
   "outputs": [
    {
     "data": {
      "text/latex": [
       "$\\displaystyle \\frac{t^{8} x^{4} y^{4}}{t^{4} x^{4} + t^{4} y^{4}}$"
      ],
      "text/plain": [
       "t**8*x**4*y**4/(t**4*x**4 + t**4*y**4)"
      ]
     },
     "execution_count": 76,
     "metadata": {},
     "output_type": "execute_result"
    }
   ],
   "source": [
    "v.subs([(x, t*x), (y, t*y)])"
   ]
  },
  {
   "cell_type": "code",
   "execution_count": 77,
   "metadata": {},
   "outputs": [
    {
     "data": {
      "text/latex": [
       "$\\displaystyle \\frac{t^{4} x^{4} y^{4}}{x^{4} + y^{4}}$"
      ],
      "text/plain": [
       "t**4*x**4*y**4/(x**4 + y**4)"
      ]
     },
     "execution_count": 77,
     "metadata": {},
     "output_type": "execute_result"
    }
   ],
   "source": [
    "v.subs([(x, t*x), (y, t*y)]).simplify()"
   ]
  },
  {
   "cell_type": "markdown",
   "metadata": {},
   "source": [
    "Therefore, V is a homogeneous function in x and y of degree 4."
   ]
  },
  {
   "cell_type": "markdown",
   "metadata": {},
   "source": [
    "Using Euler's Theorem, \n",
    "$$\n",
    "x\\frac{\\partial f}{\\partial x} + y\\frac{\\partial f}{\\partial y} = nf\n",
    "$$\n",
    "\n",
    "$$\n",
    "x\\frac{\\partial v}{\\partial x} + y\\frac{\\partial v}{\\partial y} = 4v\n",
    "$$"
   ]
  },
  {
   "cell_type": "markdown",
   "metadata": {},
   "source": [
    "(ii) $$x^2\\frac{\\partial^2 V}{\\partial x^2} + 2xy\\frac{\\partial^2 V}{\\partial x \\partial y} + y^2\\frac{\\partial^2 V}{\\partial y^2} = 12V$$"
   ]
  },
  {
   "cell_type": "markdown",
   "metadata": {},
   "source": [
    "Using Euler's Theorem,\n",
    "$$x^2\\frac{\\partial^2 f}{\\partial x^2} + 2xy\\frac{\\partial^2 f}{\\partial x \\partial y} + y^2\\frac{\\partial^2 f}{\\partial y^2} = n(n-1)f$$\n",
    "$$x^2\\frac{\\partial^2 v}{\\partial x^2} + 2xy\\frac{\\partial^2 v}{\\partial x \\partial y} + y^2\\frac{\\partial^2 v}{\\partial y^2} = 4(4-1)v$$\n",
    "$$x^2\\frac{\\partial^2 v}{\\partial x^2} + 2xy\\frac{\\partial^2 v}{\\partial x \\partial y} + y^2\\frac{\\partial^2 v}{\\partial y^2} = 12v$$"
   ]
  },
  {
   "cell_type": "markdown",
   "metadata": {},
   "source": [
    "### Q4. Expand $$f(x, y) = e^x sin(y)$$ in powers of x and y as far as the terms of third degree."
   ]
  },
  {
   "cell_type": "code",
   "execution_count": 78,
   "metadata": {},
   "outputs": [],
   "source": [
    "x, y, f = smp.symbols('x y f')"
   ]
  },
  {
   "cell_type": "code",
   "execution_count": 79,
   "metadata": {},
   "outputs": [],
   "source": [
    "f = smp.exp(x)*smp.sin(y)"
   ]
  },
  {
   "cell_type": "code",
   "execution_count": 80,
   "metadata": {},
   "outputs": [
    {
     "data": {
      "text/latex": [
       "$\\displaystyle y^{3} \\left(- \\frac{x^{3}}{36} - \\frac{x^{2}}{12} - \\frac{x}{6} - \\frac{1}{6}\\right) + y \\left(\\frac{x^{3}}{6} + \\frac{x^{2}}{2} + x + 1\\right)$"
      ],
      "text/plain": [
       "y**3*(-x**3/36 - x**2/12 - x/6 - 1/6) + y*(x**3/6 + x**2/2 + x + 1)"
      ]
     },
     "execution_count": 80,
     "metadata": {},
     "output_type": "execute_result"
    }
   ],
   "source": [
    "f.series(x, 0, 4).removeO().series(y, 0, 4).removeO()"
   ]
  },
  {
   "cell_type": "markdown",
   "metadata": {},
   "source": [
    "### Q5. If $$y_1 = \\frac{x_2x_3}{x_1}, y_2 = \\frac{x_1x_3}{x_2}, y_3 = \\frac{x_1x_2}{x_3}$$ then show that $$\\frac{\\partial (y_1,y_2,y_3)}{\\partial (x_1, x_2, x_3)} = 4$$\n",
    "---"
   ]
  },
  {
   "cell_type": "code",
   "execution_count": 81,
   "metadata": {},
   "outputs": [],
   "source": [
    "x1, x2, x3, y1, y2, y3, j = smp.symbols('x1 x2 x3 y1 y2 y3 j')"
   ]
  },
  {
   "cell_type": "code",
   "execution_count": 82,
   "metadata": {},
   "outputs": [],
   "source": [
    "y1 = (x2*x3)/x1\n",
    "y2 = (x1*x3)/x2\n",
    "y3 = (x1*x2)/x3"
   ]
  },
  {
   "cell_type": "code",
   "execution_count": 83,
   "metadata": {},
   "outputs": [],
   "source": [
    "j = smp.Matrix([y1,y2,y3])"
   ]
  },
  {
   "cell_type": "code",
   "execution_count": 84,
   "metadata": {},
   "outputs": [
    {
     "data": {
      "text/latex": [
       "$\\displaystyle \\left[\\begin{matrix}- \\frac{x_{2} x_{3}}{x_{1}^{2}} & \\frac{x_{3}}{x_{1}} & \\frac{x_{2}}{x_{1}}\\\\\\frac{x_{3}}{x_{2}} & - \\frac{x_{1} x_{3}}{x_{2}^{2}} & \\frac{x_{1}}{x_{2}}\\\\\\frac{x_{2}}{x_{3}} & \\frac{x_{1}}{x_{3}} & - \\frac{x_{1} x_{2}}{x_{3}^{2}}\\end{matrix}\\right]$"
      ],
      "text/plain": [
       "Matrix([\n",
       "[-x2*x3/x1**2,        x3/x1,        x2/x1],\n",
       "[       x3/x2, -x1*x3/x2**2,        x1/x2],\n",
       "[       x2/x3,        x1/x3, -x1*x2/x3**2]])"
      ]
     },
     "execution_count": 84,
     "metadata": {},
     "output_type": "execute_result"
    }
   ],
   "source": [
    "j.jacobian([x1,x2,x3])"
   ]
  },
  {
   "cell_type": "code",
   "execution_count": 85,
   "metadata": {},
   "outputs": [
    {
     "data": {
      "text/latex": [
       "$\\displaystyle 4$"
      ],
      "text/plain": [
       "4"
      ]
     },
     "execution_count": 85,
     "metadata": {},
     "output_type": "execute_result"
    }
   ],
   "source": [
    "j.jacobian([x1,x2,x3]).det()"
   ]
  },
  {
   "cell_type": "markdown",
   "metadata": {},
   "source": [
    "Therefore, $$\\frac{\\partial (y_1,y_2,y_3)}{\\partial (x_1, x_2, x_3)} = 4$$"
   ]
  },
  {
   "cell_type": "markdown",
   "metadata": {},
   "source": [
    "### Q6. Prove that: $$x\\frac{\\partial u}{\\partial x} + y\\frac{\\partial u}{\\partial y} + z\\frac{\\partial u}{\\partial z} = 2tan(u)$$ if, $$u = sin^{-1}(\\frac{x^3 + y^3 + z^3}{ax + by + cz})$$\n",
    "---"
   ]
  },
  {
   "cell_type": "code",
   "execution_count": 86,
   "metadata": {},
   "outputs": [],
   "source": [
    "x, y, z, u, a, b, c, t, v = smp.symbols('x y z u a b c t v')"
   ]
  },
  {
   "cell_type": "code",
   "execution_count": 87,
   "metadata": {},
   "outputs": [
    {
     "data": {
      "text/latex": [
       "$\\displaystyle \\operatorname{asin}{\\left(\\frac{x^{3} + y^{3} + z^{3}}{a x + b y + c z} \\right)}$"
      ],
      "text/plain": [
       "asin((x**3 + y**3 + z**3)/(a*x + b*y + c*z))"
      ]
     },
     "execution_count": 87,
     "metadata": {},
     "output_type": "execute_result"
    }
   ],
   "source": [
    "u = smp.asin((x**3 + y**3 + z**3)/(a*x + b*y + c*z))\n",
    "u"
   ]
  },
  {
   "cell_type": "code",
   "execution_count": 88,
   "metadata": {},
   "outputs": [
    {
     "data": {
      "text/latex": [
       "$\\displaystyle \\operatorname{asin}{\\left(\\frac{t^{3} x^{3} + t^{3} y^{3} + t^{3} z^{3}}{a t x + b t y + c t z} \\right)}$"
      ],
      "text/plain": [
       "asin((t**3*x**3 + t**3*y**3 + t**3*z**3)/(a*t*x + b*t*y + c*t*z))"
      ]
     },
     "execution_count": 88,
     "metadata": {},
     "output_type": "execute_result"
    }
   ],
   "source": [
    "u.subs([(x, t*x), (y, t*y), (z, t*z)])"
   ]
  },
  {
   "cell_type": "code",
   "execution_count": 89,
   "metadata": {},
   "outputs": [
    {
     "data": {
      "text/latex": [
       "$\\displaystyle \\operatorname{asin}{\\left(\\frac{t^{2} \\left(x^{3} + y^{3} + z^{3}\\right)}{a x + b y + c z} \\right)}$"
      ],
      "text/plain": [
       "asin(t**2*(x**3 + y**3 + z**3)/(a*x + b*y + c*z))"
      ]
     },
     "execution_count": 89,
     "metadata": {},
     "output_type": "execute_result"
    }
   ],
   "source": [
    "u.subs([(x, t*x), (y, t*y), (z, t*z)]).simplify()"
   ]
  },
  {
   "cell_type": "markdown",
   "metadata": {},
   "source": [
    "U is not a homogeneous function."
   ]
  },
  {
   "cell_type": "markdown",
   "metadata": {},
   "source": [
    "Taking, \n",
    "v = $$sin(u) = \\frac{x^3 + y^3 + z^3}{ax + by + cz}$$"
   ]
  },
  {
   "cell_type": "code",
   "execution_count": 90,
   "metadata": {},
   "outputs": [
    {
     "data": {
      "text/latex": [
       "$\\displaystyle \\frac{x^{3} + y^{3} + z^{3}}{a x + b y + c z}$"
      ],
      "text/plain": [
       "(x**3 + y**3 + z**3)/(a*x + b*y + c*z)"
      ]
     },
     "execution_count": 90,
     "metadata": {},
     "output_type": "execute_result"
    }
   ],
   "source": [
    "v = (x**3 + y**3 + z**3)/(a*x + b*y + c*z)\n",
    "v"
   ]
  },
  {
   "cell_type": "code",
   "execution_count": 91,
   "metadata": {},
   "outputs": [
    {
     "data": {
      "text/latex": [
       "$\\displaystyle \\frac{t^{3} x^{3} + t^{3} y^{3} + t^{3} z^{3}}{a t x + b t y + c t z}$"
      ],
      "text/plain": [
       "(t**3*x**3 + t**3*y**3 + t**3*z**3)/(a*t*x + b*t*y + c*t*z)"
      ]
     },
     "execution_count": 91,
     "metadata": {},
     "output_type": "execute_result"
    }
   ],
   "source": [
    "v.subs([(x, t*x), (y, t*y), (z, t*z)])"
   ]
  },
  {
   "cell_type": "code",
   "execution_count": 92,
   "metadata": {},
   "outputs": [
    {
     "data": {
      "text/latex": [
       "$\\displaystyle \\frac{t^{2} \\left(x^{3} + y^{3} + z^{3}\\right)}{a x + b y + c z}$"
      ],
      "text/plain": [
       "t**2*(x**3 + y**3 + z**3)/(a*x + b*y + c*z)"
      ]
     },
     "execution_count": 92,
     "metadata": {},
     "output_type": "execute_result"
    }
   ],
   "source": [
    "v.subs([(x, t*x), (y, t*y), (z, t*z)]).simplify()"
   ]
  },
  {
   "cell_type": "markdown",
   "metadata": {},
   "source": [
    "Therefore, v is a homogeneous function in x, y and z of degree 2."
   ]
  },
  {
   "cell_type": "markdown",
   "metadata": {},
   "source": [
    "By using Euler's Theorem,\n",
    "$$\n",
    "x\\frac{\\partial u}{\\partial x} + y\\frac{\\partial u}{\\partial y} + z\\frac{\\partial u}{\\partial z} = nu \n",
    "$$\n",
    "\n",
    "We can say,\n",
    "$$\n",
    "x\\frac{\\partial v}{\\partial x} + y\\frac{\\partial v}{\\partial y} + z\\frac{\\partial v}{\\partial z} = 2v \n",
    "$$\n",
    "\n",
    "$$\n",
    "x\\frac{\\partial sin(u)}{\\partial x} + y\\frac{\\partial sin(u)}{\\partial y} + z\\frac{\\partial sin(u)}{\\partial z} = 2sin(u)\n",
    "$$\n",
    "\n",
    "$$\n",
    "xcos(u)\\frac{\\partial u}{\\partial x} + ycos(u)\\frac{\\partial u}{\\partial y} + zcos(u)\\frac{\\partial u}{\\partial z} = 2sin(u)\n",
    "$$\n",
    "\n",
    "$$\n",
    "x\\frac{\\partial u}{\\partial x} + y\\frac{\\partial u}{\\partial y} + z\\frac{\\partial u}{\\partial z} = 2\\frac{sin(u)}{cos(u)} = 2tan(u)\n",
    "$$"
   ]
  }
 ],
 "metadata": {
  "kernelspec": {
   "display_name": "Python 3.9.15 ('base')",
   "language": "python",
   "name": "python3"
  },
  "language_info": {
   "codemirror_mode": {
    "name": "ipython",
    "version": 3
   },
   "file_extension": ".py",
   "mimetype": "text/x-python",
   "name": "python",
   "nbconvert_exporter": "python",
   "pygments_lexer": "ipython3",
   "version": "3.9.15"
  },
  "orig_nbformat": 4,
  "vscode": {
   "interpreter": {
    "hash": "c658e50ca4768982136063d62116c46a995da54d12493dbf0c1ded9c4bb25171"
   }
  }
 },
 "nbformat": 4,
 "nbformat_minor": 2
}
