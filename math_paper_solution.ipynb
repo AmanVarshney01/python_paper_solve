{
 "cells": [
  {
   "cell_type": "code",
   "execution_count": 1,
   "metadata": {},
   "outputs": [],
   "source": [
    "import sympy as smp\n",
    "import numpy as np\n"
   ]
  },
  {
   "cell_type": "code",
   "execution_count": 2,
   "metadata": {},
   "outputs": [],
   "source": [
    "x, y, z = smp.symbols('x y z')\n"
   ]
  },
  {
   "cell_type": "markdown",
   "metadata": {},
   "source": [
    "Q1: Find the nth derivative of the following functions:"
   ]
  },
  {
   "cell_type": "markdown",
   "metadata": {},
   "source": [
    "a. y = sin(2x)"
   ]
  },
  {
   "cell_type": "code",
   "execution_count": 3,
   "metadata": {},
   "outputs": [
    {
     "data": {
      "text/latex": [
       "$\\displaystyle 3 e^{3 x}$"
      ],
      "text/plain": [
       "3*exp(3*x)"
      ]
     },
     "execution_count": 3,
     "metadata": {},
     "output_type": "execute_result"
    }
   ],
   "source": [
    "y= smp.exp(3*x)\n",
    "smp.diff(y, x, 1)"
   ]
  },
  {
   "cell_type": "code",
   "execution_count": 4,
   "metadata": {},
   "outputs": [
    {
     "data": {
      "text/latex": [
       "$\\displaystyle 9 e^{3 x}$"
      ],
      "text/plain": [
       "9*exp(3*x)"
      ]
     },
     "execution_count": 4,
     "metadata": {},
     "output_type": "execute_result"
    }
   ],
   "source": [
    "\n",
    "smp.diff(y, x, 2)"
   ]
  },
  {
   "cell_type": "code",
   "execution_count": 5,
   "metadata": {},
   "outputs": [
    {
     "data": {
      "text/latex": [
       "$\\displaystyle 27 e^{3 x}$"
      ],
      "text/plain": [
       "27*exp(3*x)"
      ]
     },
     "execution_count": 5,
     "metadata": {},
     "output_type": "execute_result"
    }
   ],
   "source": [
    "smp.diff(y, x, 3)"
   ]
  },
  {
   "cell_type": "markdown",
   "metadata": {},
   "source": [
    "Therefore, by observing pattern"
   ]
  },
  {
   "cell_type": "markdown",
   "metadata": {},
   "source": [
    "$$\n",
    "Y_n = 3^n \\sin(2x + n \\frac \\pi 2)\\\\\n",
    "$$"
   ]
  },
  {
   "cell_type": "markdown",
   "metadata": {},
   "source": [
    "\n",
    "b. y = ln x"
   ]
  },
  {
   "cell_type": "code",
   "execution_count": 6,
   "metadata": {},
   "outputs": [],
   "source": [
    "y = smp.ln(x)"
   ]
  },
  {
   "cell_type": "code",
   "execution_count": 7,
   "metadata": {},
   "outputs": [
    {
     "data": {
      "text/latex": [
       "$\\displaystyle \\frac{1}{x}$"
      ],
      "text/plain": [
       "1/x"
      ]
     },
     "execution_count": 7,
     "metadata": {},
     "output_type": "execute_result"
    }
   ],
   "source": [
    "smp.diff(y, x, 1)"
   ]
  },
  {
   "cell_type": "code",
   "execution_count": 8,
   "metadata": {},
   "outputs": [
    {
     "data": {
      "text/latex": [
       "$\\displaystyle - \\frac{1}{x^{2}}$"
      ],
      "text/plain": [
       "-1/x**2"
      ]
     },
     "execution_count": 8,
     "metadata": {},
     "output_type": "execute_result"
    }
   ],
   "source": [
    "smp.diff(y, x, 2)"
   ]
  },
  {
   "cell_type": "code",
   "execution_count": 9,
   "metadata": {},
   "outputs": [
    {
     "data": {
      "text/latex": [
       "$\\displaystyle \\frac{2}{x^{3}}$"
      ],
      "text/plain": [
       "2/x**3"
      ]
     },
     "execution_count": 9,
     "metadata": {},
     "output_type": "execute_result"
    }
   ],
   "source": [
    "smp.diff(y, x, 3)"
   ]
  },
  {
   "cell_type": "code",
   "execution_count": 10,
   "metadata": {},
   "outputs": [
    {
     "data": {
      "text/latex": [
       "$\\displaystyle - \\frac{6}{x^{4}}$"
      ],
      "text/plain": [
       "-6/x**4"
      ]
     },
     "execution_count": 10,
     "metadata": {},
     "output_type": "execute_result"
    }
   ],
   "source": [
    "smp.diff(y, x, 4)"
   ]
  },
  {
   "cell_type": "markdown",
   "metadata": {},
   "source": [
    "Therefore, by observing pattern"
   ]
  },
  {
   "cell_type": "markdown",
   "metadata": {},
   "source": [
    "$$\n",
    "Y_n = \\frac{(-1)^{n-1} (n-1)!} {x^n}\n",
    "$$"
   ]
  },
  {
   "cell_type": "markdown",
   "metadata": {},
   "source": [
    "c. $$e^{3x}$$"
   ]
  },
  {
   "cell_type": "code",
   "execution_count": 11,
   "metadata": {},
   "outputs": [],
   "source": [
    "y = smp.exp(3*x)"
   ]
  },
  {
   "cell_type": "code",
   "execution_count": 12,
   "metadata": {},
   "outputs": [
    {
     "data": {
      "text/latex": [
       "$\\displaystyle 3 e^{3 x}$"
      ],
      "text/plain": [
       "3*exp(3*x)"
      ]
     },
     "execution_count": 12,
     "metadata": {},
     "output_type": "execute_result"
    }
   ],
   "source": [
    "smp.diff(y, x, 1)"
   ]
  },
  {
   "cell_type": "code",
   "execution_count": 13,
   "metadata": {},
   "outputs": [
    {
     "data": {
      "text/latex": [
       "$\\displaystyle 9 e^{3 x}$"
      ],
      "text/plain": [
       "9*exp(3*x)"
      ]
     },
     "execution_count": 13,
     "metadata": {},
     "output_type": "execute_result"
    }
   ],
   "source": [
    "smp.diff(y, x, 2)"
   ]
  },
  {
   "cell_type": "code",
   "execution_count": 14,
   "metadata": {},
   "outputs": [
    {
     "data": {
      "text/latex": [
       "$\\displaystyle 27 e^{3 x}$"
      ],
      "text/plain": [
       "27*exp(3*x)"
      ]
     },
     "execution_count": 14,
     "metadata": {},
     "output_type": "execute_result"
    }
   ],
   "source": [
    "smp.diff(y, x, 3)"
   ]
  },
  {
   "cell_type": "markdown",
   "metadata": {},
   "source": [
    "Therefore, by observing pattern"
   ]
  },
  {
   "cell_type": "markdown",
   "metadata": {},
   "source": [
    "$$\n",
    "Y_n = 3^n e^{3x}\n",
    "$$"
   ]
  },
  {
   "cell_type": "markdown",
   "metadata": {},
   "source": [
    "Q2. If $$z = ln(x^2 + xy + y^2)$$ then prove that $$x\\frac{\\partial z}{\\partial x} + y\\frac{\\partial z}{\\partial y} = 2$$"
   ]
  },
  {
   "cell_type": "code",
   "execution_count": 15,
   "metadata": {},
   "outputs": [],
   "source": [
    "t, x, y = smp.symbols('t x y')\n",
    "z = smp.ln(x**2 + x*y + y**2)"
   ]
  },
  {
   "cell_type": "code",
   "execution_count": 16,
   "metadata": {},
   "outputs": [
    {
     "data": {
      "text/latex": [
       "$\\displaystyle \\log{\\left(t^{2} x^{2} + t^{2} x y + t^{2} y^{2} \\right)}$"
      ],
      "text/plain": [
       "log(t**2*x**2 + t**2*x*y + t**2*y**2)"
      ]
     },
     "execution_count": 16,
     "metadata": {},
     "output_type": "execute_result"
    }
   ],
   "source": [
    "z.subs([(x, t*x), (y, t*y)])"
   ]
  },
  {
   "cell_type": "markdown",
   "metadata": {},
   "source": [
    "$$\n",
    "\\ln(x^2 + xy + y^2)\n",
    "$$ \n",
    "is not a homogeneous function"
   ]
  },
  {
   "cell_type": "markdown",
   "metadata": {},
   "source": [
    "Therefore, taking our new function as \n",
    "$$\n",
    "e^z = x^2 + xy + y^2\n",
    "$$\n",
    "taking $$e^z$$ as u"
   ]
  },
  {
   "cell_type": "code",
   "execution_count": 17,
   "metadata": {},
   "outputs": [],
   "source": [
    "u = x**2 + x*y + y**2"
   ]
  },
  {
   "cell_type": "code",
   "execution_count": 18,
   "metadata": {},
   "outputs": [
    {
     "data": {
      "text/latex": [
       "$\\displaystyle t^{2} x^{2} + t^{2} x y + t^{2} y^{2}$"
      ],
      "text/plain": [
       "t**2*x**2 + t**2*x*y + t**2*y**2"
      ]
     },
     "execution_count": 18,
     "metadata": {},
     "output_type": "execute_result"
    }
   ],
   "source": [
    "u.subs([(x, t*x), (y, t*y)])"
   ]
  },
  {
   "cell_type": "code",
   "execution_count": 19,
   "metadata": {},
   "outputs": [
    {
     "data": {
      "text/latex": [
       "$\\displaystyle t^{2} \\left(x^{2} + x y + y^{2}\\right)$"
      ],
      "text/plain": [
       "t**2*(x**2 + x*y + y**2)"
      ]
     },
     "execution_count": 19,
     "metadata": {},
     "output_type": "execute_result"
    }
   ],
   "source": [
    "u.subs([(x, t*x), (y, t*y)]).simplify()"
   ]
  },
  {
   "cell_type": "markdown",
   "metadata": {},
   "source": [
    "Therefore, u is a homogeneous function in x and y of degree 2."
   ]
  },
  {
   "cell_type": "markdown",
   "metadata": {},
   "source": [
    "Using Euler's Theorem, \n",
    "$$\n",
    "x\\frac{\\partial f}{\\partial x} + y\\frac{\\partial f}{\\partial y} = nf\n",
    "$$"
   ]
  },
  {
   "cell_type": "markdown",
   "metadata": {},
   "source": [
    "We can say,\n",
    "$$x\\frac{\\partial e^z}{\\partial x} + y\\frac{\\partial e^z}{\\partial y} = 2e^z$$\n",
    "\n",
    "$$ e^z(x\\frac{\\partial z}{\\partial x} + y\\frac{\\partial z}{\\partial y}) = 2e^z$$\n",
    "\n",
    "$$ x\\frac{\\partial z}{\\partial x} + y\\frac{\\partial z}{\\partial y} = 2$$"
   ]
  },
  {
   "cell_type": "markdown",
   "metadata": {},
   "source": [
    "Q3. If $$V = \\frac {x^4 y^4}{x^4 + y^4}$$ then using Euler's theorem, prove that: \n",
    "(i) $$x\\frac{\\partial V}{\\partial x} + y\\frac{\\partial V}{\\partial y} = 4V$$\n"
   ]
  },
  {
   "cell_type": "code",
   "execution_count": 20,
   "metadata": {},
   "outputs": [],
   "source": [
    "x, y, v, t = smp.symbols('x y v t')"
   ]
  },
  {
   "cell_type": "code",
   "execution_count": 21,
   "metadata": {},
   "outputs": [
    {
     "data": {
      "text/latex": [
       "$\\displaystyle \\frac{x^{4} y^{4}}{x^{4} + y^{4}}$"
      ],
      "text/plain": [
       "x**4*y**4/(x**4 + y**4)"
      ]
     },
     "execution_count": 21,
     "metadata": {},
     "output_type": "execute_result"
    }
   ],
   "source": [
    "v = ((x**4)*(y**4))/(x**4 + y**4)\n",
    "v"
   ]
  },
  {
   "cell_type": "code",
   "execution_count": 22,
   "metadata": {},
   "outputs": [
    {
     "data": {
      "text/latex": [
       "$\\displaystyle \\frac{t^{8} x^{4} y^{4}}{t^{4} x^{4} + t^{4} y^{4}}$"
      ],
      "text/plain": [
       "t**8*x**4*y**4/(t**4*x**4 + t**4*y**4)"
      ]
     },
     "execution_count": 22,
     "metadata": {},
     "output_type": "execute_result"
    }
   ],
   "source": [
    "v.subs([(x, t*x), (y, t*y)])"
   ]
  },
  {
   "cell_type": "code",
   "execution_count": 23,
   "metadata": {},
   "outputs": [
    {
     "data": {
      "text/latex": [
       "$\\displaystyle \\frac{t^{4} x^{4} y^{4}}{x^{4} + y^{4}}$"
      ],
      "text/plain": [
       "t**4*x**4*y**4/(x**4 + y**4)"
      ]
     },
     "execution_count": 23,
     "metadata": {},
     "output_type": "execute_result"
    }
   ],
   "source": [
    "v.subs([(x, t*x), (y, t*y)]).simplify()"
   ]
  },
  {
   "cell_type": "markdown",
   "metadata": {},
   "source": [
    "Therefore, V is a homogeneous function in x and y of degree 4."
   ]
  },
  {
   "cell_type": "markdown",
   "metadata": {},
   "source": [
    "Using Euler's Theorem, \n",
    "$$\n",
    "x\\frac{\\partial f}{\\partial x} + y\\frac{\\partial f}{\\partial y} = nf\n",
    "$$\n",
    "\n",
    "$$\n",
    "x\\frac{\\partial v}{\\partial x} + y\\frac{\\partial v}{\\partial y} = 4v\n",
    "$$"
   ]
  },
  {
   "cell_type": "markdown",
   "metadata": {},
   "source": [
    "(ii) $$x^2\\frac{\\partial^2 V}{\\partial x^2} + 2xy\\frac{\\partial^2 V}{\\partial x \\partial y} + y^2\\frac{\\partial^2 V}{\\partial y^2} = 12V$$"
   ]
  },
  {
   "cell_type": "markdown",
   "metadata": {},
   "source": [
    "Using Euler's Theorem,\n",
    "$$x^2\\frac{\\partial^2 f}{\\partial x^2} + 2xy\\frac{\\partial^2 f}{\\partial x \\partial y} + y^2\\frac{\\partial^2 f}{\\partial y^2} = n(n-1)f$$\n",
    "$$x^2\\frac{\\partial^2 v}{\\partial x^2} + 2xy\\frac{\\partial^2 v}{\\partial x \\partial y} + y^2\\frac{\\partial^2 v}{\\partial y^2} = 4(4-1)v$$\n",
    "$$x^2\\frac{\\partial^2 v}{\\partial x^2} + 2xy\\frac{\\partial^2 v}{\\partial x \\partial y} + y^2\\frac{\\partial^2 v}{\\partial y^2} = 12v$$"
   ]
  },
  {
   "cell_type": "markdown",
   "metadata": {},
   "source": [
    "Q4. Expand $$f(x, y) = e^x sin(y)$$ in powers of x and y as far as the terms of third degree."
   ]
  },
  {
   "cell_type": "code",
   "execution_count": 24,
   "metadata": {},
   "outputs": [],
   "source": [
    "x, y, f = smp.symbols('x y f')"
   ]
  },
  {
   "cell_type": "code",
   "execution_count": 25,
   "metadata": {},
   "outputs": [],
   "source": [
    "f = smp.exp(x)*smp.sin(y)"
   ]
  },
  {
   "cell_type": "code",
   "execution_count": 41,
   "metadata": {},
   "outputs": [
    {
     "data": {
      "text/latex": [
       "$\\displaystyle y^{3} \\left(- \\frac{x^{3}}{36} - \\frac{x^{2}}{12} - \\frac{x}{6} - \\frac{1}{6}\\right) + y \\left(\\frac{x^{3}}{6} + \\frac{x^{2}}{2} + x + 1\\right)$"
      ],
      "text/plain": [
       "y**3*(-x**3/36 - x**2/12 - x/6 - 1/6) + y*(x**3/6 + x**2/2 + x + 1)"
      ]
     },
     "execution_count": 41,
     "metadata": {},
     "output_type": "execute_result"
    }
   ],
   "source": [
    "f.series(x, 0, 4).removeO().series(y, 0, 4).removeO()"
   ]
  },
  {
   "cell_type": "markdown",
   "metadata": {},
   "source": [
    "Q5. "
   ]
  }
 ],
 "metadata": {
  "kernelspec": {
   "display_name": "Python 3.9.15 ('base')",
   "language": "python",
   "name": "python3"
  },
  "language_info": {
   "codemirror_mode": {
    "name": "ipython",
    "version": 3
   },
   "file_extension": ".py",
   "mimetype": "text/x-python",
   "name": "python",
   "nbconvert_exporter": "python",
   "pygments_lexer": "ipython3",
   "version": "3.9.15"
  },
  "orig_nbformat": 4,
  "vscode": {
   "interpreter": {
    "hash": "c658e50ca4768982136063d62116c46a995da54d12493dbf0c1ded9c4bb25171"
   }
  }
 },
 "nbformat": 4,
 "nbformat_minor": 2
}
